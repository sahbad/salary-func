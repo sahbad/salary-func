{
 "cells": [
  {
   "cell_type": "code",
   "execution_count": null,
   "id": "61a16add-6266-4f0c-83f7-c26019e1adcb",
   "metadata": {},
   "outputs": [],
   "source": [
    "# --- Import the Salary Data ---\n",
    "\n",
    "import pandas as pd\n",
    "from pathlib import Path\n",
    "\n",
    "# Define path to data folder and CSV file\n",
    "DATA_PATH = Path(\"../data\")\n",
    "CSV_FILE = DATA_PATH / \"Salaries.csv\"\n",
    "\n",
    "print(\"Setup complete. CSV file path:\", CSV_FILE)\n"
   ]
  },
  {
   "cell_type": "code",
   "execution_count": null,
   "id": "4e87400e-737a-4ee8-b7ef-5fb05200b23f",
   "metadata": {},
   "outputs": [],
   "source": [
    "# --- Function to Load Salary Data ---\n",
    "\n",
    "class DataLoadError(Exception):\n",
    "    \"\"\"Custom error raised when salary data cannot be loaded.\"\"\"\n",
    "    pass\n",
    "\n",
    "def load_salary_data(csv_path: Path) -> pd.DataFrame:\n",
    "    \"\"\"\n",
    "    Reads the salary CSV file and returns it as a pandas DataFrame.\n",
    "    Includes basic error handling for missing or unreadable files.\n",
    "    \"\"\"\n",
    "    if not csv_path.exists():\n",
    "        raise DataLoadError(f\"⚠️ File not found: {csv_path}\")\n",
    "    \n",
    "    try:\n",
    "        df = pd.read_csv(csv_path)\n",
    "    except Exception as e:\n",
    "        raise DataLoadError(f\"❌ Could not read CSV file. Error: {e}\")\n",
    "    \n",
    "    print(f\"✅ Successfully loaded {len(df)} records from '{csv_path.name}'\")\n",
    "    return df\n"
   ]
  },
  {
   "cell_type": "code",
   "execution_count": null,
   "id": "1f9f680b-db9a-4809-9217-43f8b5f5d6ca",
   "metadata": {},
   "outputs": [],
   "source": [
    "# --- Load the data and show a preview ---\n",
    "\n",
    "df = load_salary_data(CSV_FILE)\n",
    "df.head()"
   ]
  }
 ],
 "metadata": {
  "kernelspec": {
   "display_name": "Python 3 (ipykernel)",
   "language": "python",
   "name": "python3"
  },
  "language_info": {
   "codemirror_mode": {
    "name": "ipython",
    "version": 3
   },
   "file_extension": ".py",
   "mimetype": "text/x-python",
   "name": "python",
   "nbconvert_exporter": "python",
   "pygments_lexer": "ipython3",
   "version": "3.12.7"
  }
 },
 "nbformat": 4,
 "nbformat_minor": 5
}
